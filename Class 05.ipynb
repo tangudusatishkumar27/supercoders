{
 "cells": [
  {
   "cell_type": "code",
   "execution_count": 1,
   "id": "013d1e5a",
   "metadata": {},
   "outputs": [
    {
     "name": "stdout",
     "output_type": "stream",
     "text": [
      "Pemium Amount =240.0\n",
      "vechile id: 2\n",
      "vechile Type: Two Wheeler\n",
      "vechile cost: 12000\n"
     ]
    }
   ],
   "source": [
    "class insurance:\n",
    "    def __init__(self):\n",
    "        self.__vid=None\n",
    "        self.__vtype=None\n",
    "        self.__vcost=0\n",
    "        self.__premiumAmt=0\n",
    "    def change(self,vtype):\n",
    "        if vtype in [\"Two Wheeler\",\"Four Wheeler\"]:\n",
    "            self.__vtype=vtype\n",
    "        else:\n",
    "            self.__vtype=\"invalid\"\n",
    "        if self.__vtype == \"Two Wheeler\":\n",
    "            self.__premiumAmt=self.__vcost*0.02\n",
    "        elif self.__vtype == \"Four Wheeler\":\n",
    "            self.__premiumAmt=self.__vcost*0.06\n",
    "    def premiumAmount(self):\n",
    "        return self.__premiumAmt\n",
    "    def set_vid(self,vid):\n",
    "        self.__vid=vid\n",
    "    def set_vtype(self,vtype):\n",
    "        self.change(vtype)\n",
    "    def set_vcost(self,vcost):\n",
    "        self.__vcost=vcost\n",
    "        self.change(self.__vtype)\n",
    "    def get_vid(self):\n",
    "        return self.__vid\n",
    "    def get_vtype(self):\n",
    "        return self.__vtype\n",
    "    def get_vcost(self):\n",
    "        return self.__vcost\n",
    "    \n",
    "v1=insurance()\n",
    "v1.set_vid(2)\n",
    "v1.set_vtype(\"Two Wheeler\")\n",
    "v1.set_vcost(12000)\n",
    "print(f\"Pemium Amount ={v1.premiumAmount()}\")\n",
    "print(f\"vechile id: {v1.get_vid()}\")\n",
    "print(f\"vechile Type: {v1.get_vtype()}\")\n",
    "print(f\"vechile cost: {v1.get_vcost()}\")"
   ]
  },
  {
   "cell_type": "code",
   "execution_count": 39,
   "id": "fa368bca",
   "metadata": {},
   "outputs": [
    {
     "name": "stdout",
     "output_type": "stream",
     "text": [
      "Please enter valid Marks\n",
      "Your not allowed to Pay Fee!! Check Qualifications\n"
     ]
    }
   ],
   "source": [
    "class Student:\n",
    "    def __init__(self,name):\n",
    "        self.__sid=0\n",
    "        self.__smarks=0\n",
    "        self.__age=0\n",
    "        self.name=name\n",
    "        self.course_Fee={1001:25575,1002:15500}\n",
    "        self.__cid=None\n",
    "        self.__fee=None\n",
    "    def setMarks(self,marks):\n",
    "        if marks>=0 and marks<=100:\n",
    "            self.__smarks=marks\n",
    "        else:\n",
    "            print(\"Please enter valid Marks\")\n",
    "    def setAge(self,Age):\n",
    "        if Age>0:\n",
    "            self.__age=Age\n",
    "        else:\n",
    "            print(\"Please enter valid Age\")\n",
    "    def setId(self,sid):\n",
    "        self.__sid=sid\n",
    "    def validate_marks(self):\n",
    "        if self.__smarks >= 65:\n",
    "            return True\n",
    "        else:\n",
    "            return False\n",
    "    def validate_age(self):\n",
    "        if self.__age>20:\n",
    "            return True\n",
    "        else:\n",
    "            return False\n",
    "    def course(self,Cid):\n",
    "        if self.validate_marks() and self.validate_age():\n",
    "            if Cid in self.course_Fee:\n",
    "                self.__cid=Cid\n",
    "                return True\n",
    "            else:\n",
    "                return False\n",
    "        else:\n",
    "            return False\n",
    "    def fee(self):\n",
    "        if self.course(self.__cid):\n",
    "            if self.__smarks>85:\n",
    "                TotalFee=self.course_Fee[self.__cid]*0.75\n",
    "            else:\n",
    "                TotalFee=self.course_Fee[self.__cid]\n",
    "            return f\"You have to Pay for the Course {self.__cid} is {TotalFee}\"\n",
    "        else:\n",
    "            return \"Your not allowed to Pay Fee!! Check Qualifications\"\n",
    "s1=Student(\"N@rendra\")\n",
    "s1.setMarks(101)\n",
    "s1.setAge(24)\n",
    "s1.setId(33)\n",
    "s1.course(1001)\n",
    "print(s1.fee())"
   ]
  },
  {
   "cell_type": "code",
   "execution_count": 2,
   "id": "d13fee99",
   "metadata": {},
   "outputs": [
    {
     "name": "stdout",
     "output_type": "stream",
     "text": [
      "True\n",
      "True\n"
     ]
    }
   ],
   "source": [
    "class pizzaservice:\n",
    "    def __init__(self,topping):\n",
    "        self.counter=100\n",
    "        self.additional_topping=topping\n",
    "        self.pizzaCost=0\n",
    "    def validatePizzaType(self,pizzaType):\n",
    "        if pizzaType in [\"small\",\"medium\"]:\n",
    "            return True\n",
    "        else:\n",
    "            return False\n",
    "    def pizzaCost(self):\n",
    "        if self.validatePizzaType(self.pizzaType) and self.validate_quantity():\n",
    "            if pizzaType==\"small\":\n",
    "                serviceId=\"s\"+str(self.counter)\n",
    "                self.pizzaCost=150*Customer.qnty\n",
    "                if self.additional_topping:\n",
    "                    self.pizzaCost=(150+35)*Customer.qnty\n",
    "            elif pizzaType==\"medium\":\n",
    "                serviceId=\"m\"+str(self.counter)\n",
    "                self.pizzaCost=200*Customer.qnty\n",
    "                if self.additional_topping:\n",
    "                    self.pizzaCost=(200+50)*Customer.qnty\n",
    "        else:\n",
    "            self.pizzaCost=-1\n",
    "        return self.pizzaCost\n",
    "class Customer(pizzaservice):\n",
    "    def __init__(self,qnty,toppage):\n",
    "        super().__init__(toppage)\n",
    "        self.qnty=qnty\n",
    "    def validate_quantity(self):\n",
    "        if self.qnty>0 and self.qnty<=5:\n",
    "            return True\n",
    "        else:\n",
    "            return False\n",
    "class doorDelivery(pizzaservice):\n",
    "    def __init__(self,distance):\n",
    "        self.distance=distance\n",
    "        self.pizzaCost=pizzaservices.pizzaCost\n",
    "    def validateDistance(self):\n",
    "        if self.distance>=1 and self.distance<=10:\n",
    "            return True\n",
    "        else:\n",
    "            return False\n",
    "    def pizzaCost(self):\n",
    "        if self.validateDistance():\n",
    "            if self.distance>5:\n",
    "                self.pizzaCost+=(self.distance-5)*7 + 25\n",
    "            else:\n",
    "                self.pizzaCost+=self.distance*5\n",
    "        else:\n",
    "            self.pizzaCost=-1\n",
    "            \n",
    "        return self.pizzaCost\n",
    "        \n",
    "customer1=Customer(4,True)\n",
    "print(customer1.validate_quantity())\n",
    "print(customer1.validatePizzaType(\"medium\"))\n",
    "#customer1.pizzaCost()\n",
    "#customer1.pizzaservice(True)\n",
    "#customer1.pizzaCost()"
   ]
  },
  {
   "cell_type": "code",
   "execution_count": 50,
   "id": "ce311da1",
   "metadata": {},
   "outputs": [
    {
     "name": "stdout",
     "output_type": "stream",
     "text": [
      "Iam from Child Class : hello\n",
      "Iam from Parent Class : world\n"
     ]
    }
   ],
   "source": [
    "class parent:\n",
    "    def hello(self,hel):\n",
    "        print(f\"Iam from Parent Class : {hel}\")\n",
    "class child(parent):\n",
    "    def World(self,wor):\n",
    "        print(f\"Iam from Child Class : {wor}\")\n",
    "obj=child()\n",
    "obj.World(\"hello\")\n",
    "obj.hello(\"world\")"
   ]
  },
  {
   "cell_type": "code",
   "execution_count": null,
   "id": "4242945b",
   "metadata": {},
   "outputs": [],
   "source": []
  }
 ],
 "metadata": {
  "kernelspec": {
   "display_name": "Python 3 (ipykernel)",
   "language": "python",
   "name": "python3"
  },
  "language_info": {
   "codemirror_mode": {
    "name": "ipython",
    "version": 3
   },
   "file_extension": ".py",
   "mimetype": "text/x-python",
   "name": "python",
   "nbconvert_exporter": "python",
   "pygments_lexer": "ipython3",
   "version": "3.9.13"
  }
 },
 "nbformat": 4,
 "nbformat_minor": 5
}
