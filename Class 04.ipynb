{
 "cells": [
  {
   "cell_type": "markdown",
   "id": "34d5e458",
   "metadata": {},
   "source": [
    "<font color='red'>**Write a function nearest_palindrome() which accepts a number and returns the nearest palindrome greater then the given number**</font>"
   ]
  },
  {
   "cell_type": "code",
   "execution_count": 9,
   "id": "2bc20ef2",
   "metadata": {},
   "outputs": [
    {
     "name": "stdout",
     "output_type": "stream",
     "text": [
      "Enter any Number: 1221\n",
      "Nearest Palindrome for 1221 is -> 1331\n"
     ]
    }
   ],
   "source": [
    "def nearest_palindrome(num):\n",
    "    while True:\n",
    "        if str(num)==str(num)[::-1]:\n",
    "            return num\n",
    "        else:\n",
    "            num+=1\n",
    "num=int(input(\"Enter any Number: \"))\n",
    "print(f\"Nearest Palindrome for {num} is -> {nearest_palindrome(num+1)}\")"
   ]
  },
  {
   "cell_type": "code",
   "execution_count": 21,
   "id": "a3d6c3e8",
   "metadata": {},
   "outputs": [
    {
     "name": "stdout",
     "output_type": "stream",
     "text": [
      "Pediatrics\n"
     ]
    }
   ],
   "source": [
    "def ms(l):\n",
    "    medsplts={\"P\":\"Pediatrics\",\"O\":\"Orthopedics\",\"E\":\"ENT\"}\n",
    "    res={\"P\":0,\"O\":0,\"E\":0}\n",
    "    for i in range(1,len(l),2):\n",
    "        if i in res:\n",
    "            res[i]+=1\n",
    "    m=max(res.values())\n",
    "    for i in res:\n",
    "        if res[i] == m:\n",
    "            return medsplts[i]\n",
    "    return \"hello\"\n",
    "l=[101,\"P\",102,\"O\",103,\"P\",105,\"P\"]\n",
    "print(ms(l))"
   ]
  },
  {
   "cell_type": "code",
   "execution_count": 42,
   "id": "467b8280",
   "metadata": {},
   "outputs": [
    {
     "name": "stdout",
     "output_type": "stream",
     "text": [
      "lieyon\n"
     ]
    }
   ],
   "source": [
    "s1=\"I like Python\"\n",
    "s2=\"Java is a very popular language\"\n",
    "s1list=[letter for words in s1.split( ) for letter in words]\n",
    "s2list=[letter for words in s2.split( ) for letter in words]\n",
    "res=\"\"\n",
    "for i in s1list:\n",
    "    if i in s2list and i not in res:\n",
    "        res+=i\n",
    "if len(res)!=0:\n",
    "    print(res)\n",
    "else:\n",
    "    print(-1)"
   ]
  },
  {
   "cell_type": "code",
   "execution_count": 45,
   "id": "7678c5fa",
   "metadata": {},
   "outputs": [
    {
     "name": "stdout",
     "output_type": "stream",
     "text": [
      "1\n",
      "4\n",
      "9\n",
      "1156\n"
     ]
    }
   ],
   "source": [
    "l=[1,2,3,34]\n",
    "def fun(x):\n",
    "    return x**2\n",
    "res=map(fun,l)\n",
    "for i in res:\n",
    "    print(i)"
   ]
  },
  {
   "cell_type": "code",
   "execution_count": 59,
   "id": "e1d34ff5",
   "metadata": {},
   "outputs": [
    {
     "name": "stdout",
     "output_type": "stream",
     "text": [
      "<__main__.hello object at 0x000001E60EDD9520>\n"
     ]
    }
   ],
   "source": [
    "class hello:\n",
    "    pass\n",
    "obj=hello()\n",
    "print(obj)"
   ]
  },
  {
   "cell_type": "code",
   "execution_count": 54,
   "id": "6e6d39d5",
   "metadata": {},
   "outputs": [
    {
     "name": "stdout",
     "output_type": "stream",
     "text": [
      "10\n",
      "33\n"
     ]
    }
   ],
   "source": [
    "class example:\n",
    "    def __init__(self,num):\n",
    "        self.num=num\n",
    "    def setNum(self,num):\n",
    "        self.num=num\n",
    "    def getNum(self):\n",
    "        return self.num\n",
    "ex=example(10)\n",
    "print(ex.getNum())\n",
    "ex.setNum(33)\n",
    "print(ex.getNum())"
   ]
  },
  {
   "cell_type": "code",
   "execution_count": 63,
   "id": "43423279",
   "metadata": {},
   "outputs": [
    {
     "name": "stdout",
     "output_type": "stream",
     "text": [
      "33\n",
      "42\n"
     ]
    }
   ],
   "source": [
    "class customer:\n",
    "    def __init__(self,id):\n",
    "        self.id=33\n",
    "obj=customer(14)\n",
    "print(obj.id)\n",
    "obj.id=42\n",
    "print(obj.id)"
   ]
  },
  {
   "cell_type": "code",
   "execution_count": 64,
   "id": "5532535f",
   "metadata": {},
   "outputs": [
    {
     "name": "stdout",
     "output_type": "stream",
     "text": [
      "Help on method-wrapper:\n",
      "\n",
      "__str__ = <method-wrapper '__str__' of module object>\n",
      "    Return str(self).\n",
      "\n"
     ]
    }
   ],
   "source": [
    "help(\"__str__\")"
   ]
  },
  {
   "cell_type": "code",
   "execution_count": 70,
   "id": "a37e8d11",
   "metadata": {},
   "outputs": [
    {
     "name": "stdout",
     "output_type": "stream",
     "text": [
      "hello 1000 and canvas\n",
      "1000\n",
      "canvas\n",
      "hello 100 and leather\n",
      "<class '__main__.shoe'>\n"
     ]
    }
   ],
   "source": [
    "class shoe:\n",
    "    def __init__(self,price,material):\n",
    "        self.price=price\n",
    "        self.material=material\n",
    "    def __str__(self):\n",
    "        return f\"hello {self.price} and {self.material}\"\n",
    "s1=shoe(1000,\"canvas\")\n",
    "print(s1)\n",
    "print(s1.price)\n",
    "print(s1.material)\n",
    "print(shoe(100,\"leather\"))\n",
    "print(shoe)"
   ]
  },
  {
   "cell_type": "code",
   "execution_count": 72,
   "id": "201a8c0f",
   "metadata": {},
   "outputs": [
    {
     "name": "stdout",
     "output_type": "stream",
     "text": [
      "1,2,3,4,5,6\n",
      "[6, 1, 2, 3, 4, 5]\n"
     ]
    }
   ],
   "source": [
    "l=list(map(int,input().split(\",\")))\n",
    "l.insert(0,l.pop())\n",
    "print(l)"
   ]
  },
  {
   "cell_type": "code",
   "execution_count": 74,
   "id": "6efb03a1",
   "metadata": {},
   "outputs": [
    {
     "name": "stdout",
     "output_type": "stream",
     "text": [
      "18000.0\n",
      "9500.0\n"
     ]
    }
   ],
   "source": [
    "print(20000-20000*(0.1))\n",
    "print(10000-10000*(0.05))"
   ]
  },
  {
   "cell_type": "code",
   "execution_count": 78,
   "id": "d99629ab",
   "metadata": {},
   "outputs": [
    {
     "name": "stdout",
     "output_type": "stream",
     "text": [
      "After Discount You have to pay:18000.0\n",
      "Returned=2000.0\n",
      "After Discount You have to pay:17100.0\n",
      "Returned=900.0\n"
     ]
    }
   ],
   "source": [
    "class mobile:\n",
    "    def __init__(self,brand,price):\n",
    "        self.brand=brand\n",
    "        self.price=price\n",
    "        self.totalAmt=0\n",
    "    def purchase(self):\n",
    "        if self.brand==\"Apple\":\n",
    "            discount=10\n",
    "        else:\n",
    "            discount=5\n",
    "        self.totalAmt=self.price-self.price*(discount/100)\n",
    "        print(f\"After Discount You have to pay:{self.totalAmt}\")\n",
    "    def returned(self):\n",
    "        print(f\"Returned={self.price-self.totalAmt}\")\n",
    "mob1=mobile(\"Apple\",20000)\n",
    "mob2=mobile(\"Xiaomi\",18000)\n",
    "mob1.purchase()\n",
    "mob1.returned()\n",
    "mob2.purchase()\n",
    "mob2.returned()"
   ]
  },
  {
   "cell_type": "code",
   "execution_count": 80,
   "id": "8b639bb1",
   "metadata": {},
   "outputs": [
    {
     "name": "stdout",
     "output_type": "stream",
     "text": [
      "5.625\n"
     ]
    }
   ],
   "source": [
    "print((70+20+40+50)/32)"
   ]
  },
  {
   "cell_type": "code",
   "execution_count": 81,
   "id": "240d797f",
   "metadata": {},
   "outputs": [
    {
     "name": "stdout",
     "output_type": "stream",
     "text": [
      "25.0\n"
     ]
    }
   ],
   "source": [
    "print(800/32)"
   ]
  },
  {
   "cell_type": "code",
   "execution_count": null,
   "id": "3d4f6448",
   "metadata": {},
   "outputs": [],
   "source": [
    "l=[1,2,3,4,5,6]\n",
    "res"
   ]
  },
  {
   "cell_type": "code",
   "execution_count": 104,
   "id": "2879ed59",
   "metadata": {},
   "outputs": [
    {
     "name": "stdout",
     "output_type": "stream",
     "text": [
      "Your Account Balance: 10000\n",
      "n@ri 1500 is bebited from your acacount \n",
      "Your Account Balance: 8500\n",
      "n@ri 2500 is credited into your acacount \n",
      "Your Account Balance: 11000\n"
     ]
    }
   ],
   "source": [
    "class Bank:\n",
    "    def __init__(self,id,name,age,wallet_balance):\n",
    "        self.id=id\n",
    "        self.name=name\n",
    "        self.age=age\n",
    "        self.__wallet_balance=wallet_balance\n",
    "    def credit(self,amt):\n",
    "        if amt < 10000 and amt > 0:\n",
    "            self.__wallet_balance+=amt\n",
    "            print(f\"{self.name} {amt} is credited into your acacount \")\n",
    "    def show_balance(self):\n",
    "        print(f\"Your Account Balance: {self.__wallet_balance}\")\n",
    "    def debit(self,amt):\n",
    "        if amt < self.__wallet_balance and amt>0 and amt<10000:\n",
    "            self.__wallet_balance-=amt\n",
    "            print(f\"{self.name} {amt} is bebited from your acacount \")\n",
    "c1=Bank(33,\"n@ri\",21,10000)\n",
    "c1.show_balance()\n",
    "c1.debit(1500)\n",
    "c1.show_balance()\n",
    "c1.credit(2500)\n",
    "c1.show_balance()"
   ]
  },
  {
   "cell_type": "code",
   "execution_count": null,
   "id": "ef6dcff8",
   "metadata": {},
   "outputs": [],
   "source": [
    "class Table:\n",
    "    def __init__(self):\n",
    "        self.noOfLegs=4\n",
    "        self.__glassTop=None\n",
    "        self.__woodenTop=None\n",
    "    def assignData(self,glassTop,woodenTop):\n",
    "        self.__glassTop=glassTop\n",
    "        self.__woodenTop=woodenTop\n",
    "    def identifyRate(self,glassTop,woodenTop):\n",
    "        self.assignData(glassTop,wooodenTop)"
   ]
  },
  {
   "cell_type": "code",
   "execution_count": 105,
   "id": "82603fc1",
   "metadata": {},
   "outputs": [
    {
     "name": "stdout",
     "output_type": "stream",
     "text": [
      "<__main__.Table object at 0x000001E60EE04D30> <__main__.Table object at 0x000001E60EE04D30> <__main__.Table object at 0x000001E60EE046A0>\n"
     ]
    }
   ],
   "source": [
    "class Table:\n",
    "    def __init__(self):\n",
    "        self.noOfLegs=4\n",
    "        self.__glassTop=None\n",
    "        self.__woodenTop=None\n",
    "a=Table()\n",
    "b=Table()\n",
    "c=b\n",
    "b=a\n",
    "print(a,b,c)"
   ]
  },
  {
   "cell_type": "code",
   "execution_count": null,
   "id": "adc25e2b",
   "metadata": {},
   "outputs": [],
   "source": []
  }
 ],
 "metadata": {
  "kernelspec": {
   "display_name": "Python 3 (ipykernel)",
   "language": "python",
   "name": "python3"
  },
  "language_info": {
   "codemirror_mode": {
    "name": "ipython",
    "version": 3
   },
   "file_extension": ".py",
   "mimetype": "text/x-python",
   "name": "python",
   "nbconvert_exporter": "python",
   "pygments_lexer": "ipython3",
   "version": "3.9.13"
  }
 },
 "nbformat": 4,
 "nbformat_minor": 5
}
