{
 "cells": [
  {
   "cell_type": "markdown",
   "id": "d378425b",
   "metadata": {},
   "source": [
    "# List Comprehension"
   ]
  },
  {
   "cell_type": "code",
   "execution_count": 4,
   "id": "5a8a0583",
   "metadata": {},
   "outputs": [
    {
     "name": "stdout",
     "output_type": "stream",
     "text": [
      "Enter the Starting Number: 1\n",
      "Enter the ending Number3\n",
      "[1]\n",
      "[1, 2]\n",
      "[2, 3]\n",
      "[3]\n"
     ]
    },
    {
     "data": {
      "text/plain": [
       "4"
      ]
     },
     "execution_count": 4,
     "metadata": {},
     "output_type": "execute_result"
    }
   ],
   "source": [
    "start=int(input(\"Enter the Starting Number: \"))\n",
    "end=int(input(\"Enter the ending Number\"))\n",
    "arr=[i for i in range(start,end+1)]\n",
    "subarr=[arr[i:j+1] for i in range(len(arr)) for j in range(i,len(arr))]\n",
    "count=0\n",
    "for i in subarr:\n",
    "    if sum(i)%2:\n",
    "        count+=1\n",
    "        print(i)\n",
    "count"
   ]
  },
  {
   "cell_type": "code",
   "execution_count": 8,
   "id": "f77f0902",
   "metadata": {},
   "outputs": [
    {
     "name": "stdout",
     "output_type": "stream",
     "text": [
      "[1, 3, 5, 7, 9, 11, 13, 15, 17, 19, 21, 23, 25, 27, 29, 31, 33, 35, 37, 39, 41, 43, 45, 47, 49, 51, 53, 55, 57, 59, 61, 63, 65, 67, 69, 71, 73, 75, 77, 79, 81, 83, 85, 87, 89, 91, 93, 95, 97, 99] [0, 2, 4, 6, 8, 10, 12, 14, 16, 18, 20, 22, 24, 26, 28, 30, 32, 34, 36, 38, 40, 42, 44, 46, 48, 50, 52, 54, 56, 58, 60, 62, 64, 66, 68, 70, 72, 74, 76, 78, 80, 82, 84, 86, 88, 90, 92, 94, 96, 98, 100]\n"
     ]
    }
   ],
   "source": [
    "odd=[i for i in range(101) if i%2]\n",
    "even=[i for i in range(101) if i%2==0]\n",
    "print(odd,even)"
   ]
  },
  {
   "cell_type": "code",
   "execution_count": 10,
   "id": "a4a6b131",
   "metadata": {},
   "outputs": [
    {
     "name": "stdout",
     "output_type": "stream",
     "text": [
      "[0, 1, 4, 3, 16, 5, 36, 7, 64, 9, 100, 11, 144, 13, 196, 15, 256, 17, 324, 19, 400, 21, 484, 23, 576, 25, 676, 27, 784, 29, 900, 31, 1024, 33, 1156, 35, 1296, 37, 1444, 39, 1600, 41, 1764, 43, 1936, 45, 2116, 47, 2304, 49, 2500, 51, 2704, 53, 2916, 55, 3136, 57, 3364, 59, 3600, 61, 3844, 63, 4096, 65, 4356, 67, 4624, 69, 4900, 71, 5184, 73, 5476, 75, 5776, 77, 6084, 79, 6400, 81, 6724, 83, 7056, 85, 7396, 87, 7744, 89, 8100, 91, 8464, 93, 8836, 95, 9216, 97, 9604, 99, 10000]\n"
     ]
    }
   ],
   "source": [
    "res=[i if i%2 else i**2 for i in range(101)]\n",
    "print(res)"
   ]
  },
  {
   "cell_type": "code",
   "execution_count": 15,
   "id": "477eb0bf",
   "metadata": {},
   "outputs": [
    {
     "name": "stdout",
     "output_type": "stream",
     "text": [
      "[1, 8, 9, 64, 25, 216, 49, 512, 81, 1000, 121, 1728, 169, 2744, 225, 4096]\n"
     ]
    }
   ],
   "source": [
    "matrix=[[1,2,3,4],[5,6,7,8],[9,10,11,12],[13,14,15,16]]\n",
    "res=[j**2 if j%2 else j**3 for i in matrix for j in i]\n",
    "print(res)"
   ]
  },
  {
   "cell_type": "code",
   "execution_count": 16,
   "id": "c2a716af",
   "metadata": {},
   "outputs": [
    {
     "name": "stdout",
     "output_type": "stream",
     "text": [
      "[[1, 8, 9, 64], [25, 216, 49, 512], [81, 1000, 121, 1728], [169, 2744, 225, 4096]]\n"
     ]
    }
   ],
   "source": [
    "matrix=[[1,2,3,4],[5,6,7,8],[9,10,11,12],[13,14,15,16]]\n",
    "res=[]\n",
    "for i in matrix:\n",
    "    row=[]\n",
    "    for j in i:\n",
    "        if j%2:\n",
    "            row.append(j**2)\n",
    "        else:\n",
    "            row.append(j**3)\n",
    "    res.append(row)\n",
    "print(res)"
   ]
  },
  {
   "cell_type": "code",
   "execution_count": 22,
   "id": "f53ad7c2",
   "metadata": {},
   "outputs": [
    {
     "name": "stdout",
     "output_type": "stream",
     "text": [
      "[[1, 8, 9, 64], [25, 216, 49, 512], [81, 1000, 121, 1728], [169, 2744, 225, 4096]]\n"
     ]
    }
   ],
   "source": [
    "matrix=[[1,2,3,4],[5,6,7,8],[9,10,11,12],[13,14,15,16]]\n",
    "res=[ [j**2 if j%2 else j**3 for j in i] for i in matrix]\n",
    "print(res)"
   ]
  },
  {
   "cell_type": "code",
   "execution_count": 29,
   "id": "f2e1d587",
   "metadata": {},
   "outputs": [
    {
     "name": "stdout",
     "output_type": "stream",
     "text": [
      "[(6, 2), (4, 8), (6, 2), (1, 3), (2, 7), (2, 7)]\n",
      "[(6, 2), (4, 8), (6, 2), (1, 3), (2, 7), (2, 7)]\n"
     ]
    }
   ],
   "source": [
    "givenList=[6,4,6,1,2,2]\n",
    "checkList=[9,3,6,1,5,0,8,2,4,7]\n",
    "res=[(num1,num2) for num1 in givenList for num2 in range(len(checkList)) if num1 == checkList[num2]]\n",
    "print(res)\n",
    "\n",
    "# if we use index function\n",
    "reslt=[(num1,checkList.index(num1)) for num1 in givenList]\n",
    "print(reslt)"
   ]
  },
  {
   "cell_type": "markdown",
   "id": "36797823",
   "metadata": {},
   "source": [
    "# Dictionary Comprehension"
   ]
  },
  {
   "cell_type": "code",
   "execution_count": 35,
   "id": "94947bbf",
   "metadata": {},
   "outputs": [
    {
     "name": "stdout",
     "output_type": "stream",
     "text": [
      "{6: 2, 4: 8, 1: 3, 2: 7}\n",
      "{6: 2, 4: 8, 1: 3, 2: 7}\n"
     ]
    }
   ],
   "source": [
    "givenList=[6,4,6,1,2,2]\n",
    "checkList=[9,3,6,1,5,0,8,2,4,7]\n",
    "res={num1:num2 for num1 in givenList for num2 in range(len(checkList)) if num1 == checkList[num2]}\n",
    "print(res)\n",
    "\n",
    "# if we use index function\n",
    "reslt={num1:checkList.index(num1) for num1 in givenList}\n",
    "print(reslt)"
   ]
  },
  {
   "cell_type": "code",
   "execution_count": 44,
   "id": "3cfab01d",
   "metadata": {},
   "outputs": [
    {
     "name": "stdout",
     "output_type": "stream",
     "text": [
      "['new world record set ', 'holy city ayodhya ', 'eve holi wednesday ', 'over three lakh diya earthen lamps ', 'lit up simultaneously ', 'banks godavari ']\n"
     ]
    }
   ],
   "source": [
    "sentences = [\"a new world record was set\",\"in the holy city of ayodhya\",\n",
    "             \"on the eve of holi on wednesday\",\"with over three lakh diya and earthen lamps\",\n",
    "             \"lit up simultaneously on\",\"the banks of godavari\"]\n",
    "stopWords=[\"a\",\"for\",\"the\",\"of\",\"and\",\"to\",\"in\",\"on\",\"with\",\"was\"]\n",
    "res=[]\n",
    "for sentence in sentences:\n",
    "    words=sentence.split( )\n",
    "    row=\"\"\n",
    "    for word in words:\n",
    "        if word not in stopWords:\n",
    "            row+=word+\" \"\n",
    "    res.append(row)\n",
    "print(res)"
   ]
  },
  {
   "cell_type": "code",
   "execution_count": 43,
   "id": "2fd1a272",
   "metadata": {},
   "outputs": [
    {
     "name": "stdout",
     "output_type": "stream",
     "text": [
      "[['new', 'world', 'record', 'set'], ['holy', 'city', 'ayodhya'], ['eve', 'holi', 'wednesday'], ['over', 'three', 'lakh', 'diya', 'earthen', 'lamps'], ['lit', 'up', 'simultaneously'], ['banks', 'godavari']]\n"
     ]
    }
   ],
   "source": [
    "sentences = [\"a new world record was set\",\"in the holy city of ayodhya\",\n",
    "             \"on the eve of holi on wednesday\",\"with over three lakh diya and earthen lamps\",\n",
    "             \"lit up simultaneously on\",\"the banks of godavari\"]\n",
    "stopWords=[\"a\",\"for\",\"the\",\"of\",\"and\",\"to\",\"in\",\"on\",\"with\",\"was\"]\n",
    "res=[[word for word in sentence.split() if word not in stopWords]for sentence in sentences]\n",
    "print(res)"
   ]
  },
  {
   "cell_type": "code",
   "execution_count": 45,
   "id": "d8fde786",
   "metadata": {},
   "outputs": [
    {
     "name": "stdout",
     "output_type": "stream",
     "text": [
      "[3, 2, 6, 5, 1, 4, 8, 9]\n"
     ]
    }
   ],
   "source": [
    "nums=\"3,2,6,5,1,4,8,9\"\n",
    "nums=[int(i) for i in nums.split(\",\")]\n",
    "print(nums)\n",
    "snum,enum=5,8\n",
    "res1=0\n",
    "for i in range(len(nums)):\n",
    "    if nums[i]!=5:\n",
    "        res1+nums[i]\n",
    "    \n",
    "    \n",
    "    "
   ]
  },
  {
   "cell_type": "code",
   "execution_count": 54,
   "id": "ddef94bb",
   "metadata": {},
   "outputs": [
    {
     "name": "stdout",
     "output_type": "stream",
     "text": [
      "sum of the number doesn't between the 5 & 8 = 20\n",
      "concatenation between the 5 & 8 = 5148 and sum is 5168\n"
     ]
    }
   ],
   "source": [
    "nums=\"3,2,6,5,1,4,8,9\"\n",
    "nums=[int(i) for i in nums.split(\",\")]\n",
    "snum,enum=5,8\n",
    "s,e=nums.index(snum),nums.index(enum)\n",
    "res=nums[:s:]+nums[e+1::1]\n",
    "print(f\"sum of the number doesn't between the {snum} & {enum} = {sum(res)}\")\n",
    "res1=nums[s:e+1:]\n",
    "res2=\"\"\n",
    "for i in res1:\n",
    "    res2+=str(i)\n",
    "res2=int(res2)\n",
    "print(f\"concatenation between the {snum} & {enum} = {res2} and sum is {res2+sum(res)}\")"
   ]
  },
  {
   "cell_type": "code",
   "execution_count": 71,
   "id": "3b81e8c5",
   "metadata": {},
   "outputs": [
    {
     "name": "stdout",
     "output_type": "stream",
     "text": [
      "ghftd:1246\n",
      "ftdgh\n"
     ]
    }
   ],
   "source": [
    "st,num=input().split(\":\")\n",
    "num=int(num)\n",
    "sqsum=0\n",
    "while(num>0):\n",
    "    sqsum+=(num%10)**2\n",
    "    num//=10\n",
    "if sqsum%2:\n",
    "    print(st[2::]+st[:2:])\n",
    "else:\n",
    "    print(st[-1]+st[:-1:])"
   ]
  },
  {
   "cell_type": "code",
   "execution_count": 87,
   "id": "2b00268a",
   "metadata": {},
   "outputs": [
    {
     "name": "stdout",
     "output_type": "stream",
     "text": [
      "Enter the number here: 10\n",
      "[10, 11, 12, 13, 14, 15, 16, 17, 18]\n",
      "[5, 11, 3, 13, 7, 5, 2, 17, 3] sum= 66\n"
     ]
    }
   ],
   "source": [
    "def isPrime(num):\n",
    "    if num==2:\n",
    "        return True\n",
    "    for i in range(2,num//2+1,1):\n",
    "        if num%i:\n",
    "            continue\n",
    "        else:\n",
    "            return False\n",
    "            break\n",
    "    else:\n",
    "        return True\n",
    "def factors(num):\n",
    "    res=[1]\n",
    "    for i in range(2,num//2+1):\n",
    "        if num%i==0:\n",
    "            res.append(i)\n",
    "    res.append(num)\n",
    "    return res\n",
    "num=int(input(\"Enter the number here: \"))\n",
    "numl=[i for i in range(num,num+9,1)]\n",
    "res=[]\n",
    "print(numl)\n",
    "for i in numl:\n",
    "    f=factors(i)\n",
    "    for j in range(len(f)-1,-1,-1):\n",
    "        if isPrime(f[j]):\n",
    "            res.append(f[j])\n",
    "            break\n",
    "print(f\"{res} sum= {sum(res)}\")"
   ]
  },
  {
   "cell_type": "code",
   "execution_count": null,
   "id": "220977bb",
   "metadata": {},
   "outputs": [],
   "source": []
  }
 ],
 "metadata": {
  "kernelspec": {
   "display_name": "Python 3 (ipykernel)",
   "language": "python",
   "name": "python3"
  },
  "language_info": {
   "codemirror_mode": {
    "name": "ipython",
    "version": 3
   },
   "file_extension": ".py",
   "mimetype": "text/x-python",
   "name": "python",
   "nbconvert_exporter": "python",
   "pygments_lexer": "ipython3",
   "version": "3.9.13"
  }
 },
 "nbformat": 4,
 "nbformat_minor": 5
}
