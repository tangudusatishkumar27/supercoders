{
 "cells": [
  {
   "cell_type": "code",
   "execution_count": 1,
   "id": "12eff36c",
   "metadata": {},
   "outputs": [
    {
     "name": "stdout",
     "output_type": "stream",
     "text": [
      "ELement found at index 4\n"
     ]
    }
   ],
   "source": [
    "#linear search\n",
    "def linearsearch(array,n,x):\n",
    "    for i in range(0,n):\n",
    "        if(array[i]==x):\n",
    "            return i\n",
    "    return -1\n",
    "array=[2,4,0,1,9]\n",
    "x=9\n",
    "n=len(array)\n",
    "result=linearsearch(array,n,x)\n",
    "if (result==-1):\n",
    "    print(\"element not found\")\n",
    "else:\n",
    "    print(\"ELement found at index\",result)\n",
    "    "
   ]
  },
  {
   "cell_type": "code",
   "execution_count": 2,
   "id": "fb7414e8",
   "metadata": {},
   "outputs": [
    {
     "name": "stdout",
     "output_type": "stream",
     "text": [
      "element is present at index 1\n"
     ]
    }
   ],
   "source": [
    "#binary search in python\n",
    "def binarysearch(array,x,low,high):\n",
    "    while low<=high:\n",
    "        mid=low+(high-low)//2\n",
    "        if array[mid]==x:\n",
    "            return mid\n",
    "        elif array[mid]<x:\n",
    "            low=mid+1\n",
    "        else:\n",
    "            high=mid-1\n",
    "    return -1\n",
    "array=[3,4,5,6,7,8,9]\n",
    "x=4\n",
    "result=binarysearch(array,x,0,len(array)-1)\n",
    "if result !=-1:\n",
    "    print(\"element is present at index \"+str(result))\n",
    "else:\n",
    "    print(\"not found\")"
   ]
  },
  {
   "cell_type": "markdown",
   "id": "5df3fbcf",
   "metadata": {},
   "source": [
    "tree_traversal i,e preorder ,postorder,inorder"
   ]
  },
  {
   "cell_type": "code",
   "execution_count": 3,
   "id": "f906e775",
   "metadata": {},
   "outputs": [
    {
     "name": "stdout",
     "output_type": "stream",
     "text": [
      "4->2->5->1->3->\n",
      "1-> 2-> 4-> 5-> 3-> \n",
      "4-> 5-> 2-> 3-> 1-> \n"
     ]
    }
   ],
   "source": [
    "class Node:\n",
    "    def __init__(self,item):\n",
    "        self.left=None\n",
    "        self.right=None\n",
    "        self.val=item\n",
    "def inorder(root):\n",
    "    if root:\n",
    "        inorder(root.left)\n",
    "        print(str(root.val) + \"->\",end=\"\")\n",
    "        inorder(root.right)\n",
    "\n",
    "def preorder(root):\n",
    "    if root:\n",
    "        print(str(root.val)+\"->\",end=\" \" )\n",
    "        preorder(root.left)\n",
    "        preorder(root.right)\n",
    "    \n",
    "def postorder(root):\n",
    "    if root:\n",
    "        postorder(root.left)\n",
    "        postorder(root.right)\n",
    "        print(str(root.val)+\"->\",end=\" \")\n",
    "    \n",
    "root=Node(1)\n",
    "root.left=Node(2)\n",
    "root.right=Node(3)\n",
    "root.left.left=Node(4)\n",
    "root.left.right=Node(5)\n",
    "inorder(root)\n",
    "print()\n",
    "preorder(root)\n",
    "print()\n",
    "postorder(root)\n",
    "print()"
   ]
  },
  {
   "cell_type": "markdown",
   "id": "b90fafdb",
   "metadata": {},
   "source": [
    "binary search tree\n"
   ]
  },
  {
   "cell_type": "code",
   "execution_count": 4,
   "id": "6661fea9",
   "metadata": {},
   "outputs": [
    {
     "name": "stdout",
     "output_type": "stream",
     "text": [
      "1->3->4->6->7->8->10->14->"
     ]
    }
   ],
   "source": [
    "class Node:\n",
    "    def __init__(self,key):\n",
    "        self.left=None\n",
    "        self.right=None\n",
    "        self.key=key\n",
    "def inorder(root):\n",
    "    if root is not None:\n",
    "        inorder(root.left)\n",
    "        print(str(root.key)+\"->\",end=\"\")\n",
    "        inorder(root.right)\n",
    "def insert(node,key):\n",
    "    if  node is None:\n",
    "        return Node(key)\n",
    "    elif key<node.key:\n",
    "        node.left=insert(node.left,key)\n",
    "    else:\n",
    "        node.right=insert(node.right,key)\n",
    "    return node   \n",
    "\n",
    "    \n",
    "    \n",
    "root=None\n",
    "root=insert(root,8)\n",
    "root=insert(root,3)\n",
    "root=insert(root,1)\n",
    "root=insert(root,6)\n",
    "root=insert(root,7)\n",
    "root=insert(root,10)\n",
    "root=insert(root,14)\n",
    "root=insert(root,4)\n",
    "inorder(root)"
   ]
  },
  {
   "cell_type": "code",
   "execution_count": null,
   "id": "da4fe026",
   "metadata": {},
   "outputs": [],
   "source": []
  }
 ],
 "metadata": {
  "kernelspec": {
   "display_name": "Python 3 (ipykernel)",
   "language": "python",
   "name": "python3"
  },
  "language_info": {
   "codemirror_mode": {
    "name": "ipython",
    "version": 3
   },
   "file_extension": ".py",
   "mimetype": "text/x-python",
   "name": "python",
   "nbconvert_exporter": "python",
   "pygments_lexer": "ipython3",
   "version": "3.9.13"
  }
 },
 "nbformat": 4,
 "nbformat_minor": 5
}
