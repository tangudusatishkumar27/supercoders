{
 "cells": [
  {
   "cell_type": "code",
   "execution_count": 3,
   "id": "c3d15438",
   "metadata": {},
   "outputs": [
    {
     "name": "stdout",
     "output_type": "stream",
     "text": [
      "Enter any Number:15\n",
      "The Number 15 is multiple of both 5 and 3\n"
     ]
    }
   ],
   "source": [
    "number=int(input(\"Enter any Number:\"))\n",
    "if number%15==0:\n",
    "    print(f\"The Number {number} is multiple of both 5 and 3\")\n",
    "elif number%5==0:\n",
    "    print(f\"The Number {number} is multiple of 5\")\n",
    "elif number%3==0:\n",
    "    print(f\"The Number {number} is multiple of 3\")\n",
    "else:\n",
    "    print(\"Invalid\")"
   ]
  },
  {
   "cell_type": "code",
   "execution_count": 28,
   "id": "02e21456",
   "metadata": {},
   "outputs": [
    {
     "name": "stdout",
     "output_type": "stream",
     "text": [
      "1,2,3,4,5,6,7,8,9,10,11,12,13,14,15,16,17,18,19,20,21,22,23,24,25,26,27,28,29,30,31,32,33,34,35,36,37,38,39,40,41,42,43,44,45,46,47,48,49,50,51,52,53,54,55,56,57,58,59,60,61,62,63,64,65,66,67,68,69,70,71,72,73,74,75,76,77,78,79,80,81,82,83,84,85,86,87,88,89,90,91,92,93,94,95,96,97,98,99,100,\n",
      "\n",
      "Odd Numbers: 1,3,5,7,9,11,13,15,17,19,21,23,25,27,29,31,33,35,37,39,41,43,45,47,49,51,53,55,57,59,61,63,65,67,69,71,73,75,77,79,81,83,85,87,89,91,93,95,97,99,\n",
      "\n",
      "Even Numbers: 2,4,6,8,10,12,14,16,18,20,22,24,26,28,30,32,34,36,38,40,42,44,46,48,50,52,54,56,58,60,62,64,66,68,70,72,74,76,78,80,82,84,86,88,90,92,94,96,98,100,"
     ]
    }
   ],
   "source": [
    "for i in range(1,101):\n",
    "    print(i,end=\",\")\n",
    "print(\"\\n\\nOdd Numbers:\",end=\" \")\n",
    "for j in range(1,100,2):\n",
    "    print(j,end=\",\")\n",
    "print(\"\\n\\nEven Numbers:\",end=\" \")\n",
    "for k in range(2,101,2):\n",
    "    print(k,end=\",\")"
   ]
  },
  {
   "cell_type": "code",
   "execution_count": 33,
   "id": "fcec0ea1",
   "metadata": {},
   "outputs": [
    {
     "name": "stdout",
     "output_type": "stream",
     "text": [
      "100 99 98 97 96 95 94 93 92 91 90 89 88 87 86 85 84 83 82 81 80 79 78 77 76 75 74 73 72 71 70 69 68 67 66 65 64 63 62 61 60 59 58 57 56 55 54 53 52 51 50 49 48 47 46 45 44 43 42 41 40 39 38 37 36 35 34 33 32 31 30 29 28 27 26 25 24 23 22 21 20 19 18 17 16 15 14 13 12 11 10 9 8 7 6 5 4 3 2 1 \n",
      "\n",
      "Even Numbers: 100 98 96 94 92 90 88 86 84 82 80 78 76 74 72 70 68 66 64 62 60 58 56 54 52 50 48 46 44 42 40 38 36 34 32 30 28 26 24 22 20 18 16 14 12 10 8 6 4 2 \n",
      "\n",
      "Odd Numbers: 99 97 95 93 91 89 87 85 83 81 79 77 75 73 71 69 67 65 63 61 59 57 55 53 51 49 47 45 43 41 39 37 35 33 31 29 27 25 23 21 19 17 15 13 11 9 7 5 3 1 "
     ]
    }
   ],
   "source": [
    "for i in range(100,0,-1):\n",
    "    print(i,end=\" \")\n",
    "print(\"\\n\\nEven Numbers: \",end=\"\")\n",
    "for i in range(100,0,-2):\n",
    "    print(i,end=\" \")\n",
    "print(\"\\n\\nOdd Numbers: \",end=\"\")\n",
    "for i in range(99,0,-2):\n",
    "    print(i,end=\" \")"
   ]
  },
  {
   "cell_type": "code",
   "execution_count": 35,
   "id": "57cbd9c2",
   "metadata": {},
   "outputs": [
    {
     "name": "stdout",
     "output_type": "stream",
     "text": [
      "1,2,3,4,5,6,7,8,9,10,11,12,13,14,15,16,17,18,19,20,21,22,23,24,25,26,27,28,29,30,31,32,33,34,35,36,37,38,39,40,41,42,43,44,45,46,47,48,49,"
     ]
    }
   ],
   "source": [
    "for k in range(1,101,1):\n",
    "    if k==50:\n",
    "        break\n",
    "    else:\n",
    "        print(k,end=\",\")"
   ]
  },
  {
   "cell_type": "code",
   "execution_count": 37,
   "id": "33154eb3",
   "metadata": {},
   "outputs": [],
   "source": [
    "def fun():\n",
    "    pass"
   ]
  },
  {
   "cell_type": "code",
   "execution_count": 40,
   "id": "dda5955f",
   "metadata": {},
   "outputs": [
    {
     "name": "stdout",
     "output_type": "stream",
     "text": [
      "\n",
      "Here is a list of the Python keywords.  Enter any keyword to get more help.\n",
      "\n",
      "False               break               for                 not\n",
      "None                class               from                or\n",
      "True                continue            global              pass\n",
      "__peg_parser__      def                 if                  raise\n",
      "and                 del                 import              return\n",
      "as                  elif                in                  try\n",
      "assert              else                is                  while\n",
      "async               except              lambda              with\n",
      "await               finally             nonlocal            yield\n",
      "\n"
     ]
    }
   ],
   "source": [
    "help(\"keywords\")"
   ]
  },
  {
   "cell_type": "code",
   "execution_count": 43,
   "id": "c70493f5",
   "metadata": {},
   "outputs": [
    {
     "name": "stdout",
     "output_type": "stream",
     "text": [
      "no documentation found for '__peg_parser__'\n",
      "\n"
     ]
    }
   ],
   "source": [
    "help(\"__peg_parser__\")"
   ]
  },
  {
   "cell_type": "code",
   "execution_count": 48,
   "id": "89fb472f",
   "metadata": {},
   "outputs": [
    {
     "name": "stdout",
     "output_type": "stream",
     "text": [
      "1.5032\n"
     ]
    }
   ],
   "source": [
    "def func(i,j):\n",
    "    print(i+j)\n",
    "func(\"1.503\",\"2\")"
   ]
  },
  {
   "cell_type": "code",
   "execution_count": 60,
   "id": "9c93adae",
   "metadata": {},
   "outputs": [
    {
     "name": "stdout",
     "output_type": "stream",
     "text": [
      "10\n"
     ]
    }
   ],
   "source": [
    "def func(*nums):\n",
    "    sum=0\n",
    "    for i in nums:\n",
    "        sum+=i\n",
    "    print(sum)\n",
    "i=0\n",
    "func(i+1,i+2,i+3,i+4)"
   ]
  },
  {
   "cell_type": "code",
   "execution_count": 102,
   "id": "f76fb9c6",
   "metadata": {},
   "outputs": [
    {
     "data": {
      "text/plain": [
       "3"
      ]
     },
     "execution_count": 102,
     "metadata": {},
     "output_type": "execute_result"
    }
   ],
   "source": [
    "def prod(*nums):\n",
    "    prod=1\n",
    "    nums=list(nums)\n",
    "    if nums[-1]==7:\n",
    "        return -1\n",
    "    for i in nums:\n",
    "        if i==7:\n",
    "            prod=1\n",
    "        else:\n",
    "            prod*=i\n",
    "    return prod\n",
    "prod(1,7,3)"
   ]
  },
  {
   "cell_type": "code",
   "execution_count": 90,
   "id": "29791b81",
   "metadata": {},
   "outputs": [
    {
     "name": "stdout",
     "output_type": "stream",
     "text": [
      "Enter Your Country Currency Name: Euro\n",
      "Enter Indian Currency(INR): 300\n",
      "You Required 4.251 Euro for ₹300.0\n"
     ]
    }
   ],
   "source": [
    "c_name=input(\"Enter Your Country Currency Name: \")\n",
    "inrCurrency=float(input(\"Enter Indian Currency(INR): \"))\n",
    "if c_name==\"Euro\":\n",
    "    Euro=inrCurrency*0.01417\n",
    "    print(f\"You Required {Euro} {c_name} for ₹{inrCurrency}\")\n",
    "elif c_name==\"British Pound\":\n",
    "    BritishPound=inrCurrency*0.01\n",
    "    print(f\"You Required {BritishPound} {c_name} for ₹{inrCurrency}\")\n",
    "elif c_name==\"Australian Dollar\":\n",
    "    AustralianDollar=inrCurrency*0.0214\n",
    "    print(f\"You Required {AustralianDollar} {c_name} for ₹{inrCurrency}\")\n",
    "elif c_name==\"Canadian Dollar\":\n",
    "    CanadianDollar=inrCurrency*0.02027\n",
    "    print(f\"You Required {AustralianDollar} {c_name} for ₹{inrCurrency}\")\n",
    "else:\n",
    "    print(\"Invalid\")"
   ]
  },
  {
   "cell_type": "code",
   "execution_count": 96,
   "id": "00fd1146",
   "metadata": {},
   "outputs": [
    {
     "name": "stdout",
     "output_type": "stream",
     "text": [
      "False\n",
      "True\n"
     ]
    }
   ],
   "source": [
    "c=2+3j\n",
    "d=2+3j\n",
    "a=2\n",
    "b=2\n",
    "print(c is d)\n",
    "print(a is b)"
   ]
  },
  {
   "cell_type": "code",
   "execution_count": 105,
   "id": "5559a0bc",
   "metadata": {},
   "outputs": [
    {
     "name": "stdout",
     "output_type": "stream",
     "text": [
      "Enter The Number of Adults: 5\n",
      "Enter The Number of Childrens: 2\n",
      "You have to Pay ✈ : ₹204910.35\n"
     ]
    }
   ],
   "source": [
    "Adults=int(input(\"Enter The Number of Adults: \"))\n",
    "Childrens=int(input(\"Enter The Number of Childrens: \"))\n",
    "cost=Adults*37550 + Childrens*37550/3\n",
    "tax=cost*0.07\n",
    "TotalCost=cost+tax\n",
    "Discount=TotalCost*0.1\n",
    "FinalAmount=TotalCost-Discount\n",
    "print(f\"You have to Pay ✈ : ₹{FinalAmount}\")"
   ]
  },
  {
   "cell_type": "code",
   "execution_count": 123,
   "id": "ba3cb8fe",
   "metadata": {},
   "outputs": [
    {
     "name": "stdout",
     "output_type": "stream",
     "text": [
      "Enter the Number of 5 Rupee Coins:11\n",
      "Enter the Number of 1 Rupee Coins You Have: 2\n",
      "Enter The Product Cost: 11\n",
      "Five Coins: 2 One Coins 1\n"
     ]
    }
   ],
   "source": [
    "FiveCoins=int(input(\"Enter the Number of 5 Rupee Coins:\"))\n",
    "OneCoins=int(input(\"Enter the Number of 1 Rupee Coins You Have: \"))\n",
    "PurchaseAmount=int(input(\"Enter The Product Cost: \"))\n",
    "if PurchaseAmount<(FiveCoins*5):\n",
    "    print(\"Five Coins:\",PurchaseAmount//5,\"One Coins\",PurchaseAmount%5)\n",
    "elif PurchaseAmount > (FiveCoins*5 + OneCoins ):\n",
    "    print(\"You Can't Purchase\"-1)\n",
    "else:\n",
    "    for i in range(FiveCoins,-1,-1):\n",
    "        if i!=0 and PurchaseAmount%(5*i)<=OneCoins:\n",
    "            print(\"Five Coins:\",i,\"One Coins\",PurchaseAmount%(5*i))\n",
    "            break\n",
    "        if i==0:\n",
    "            print(\"Five Coins:\",0,\"One Coins\",PurchaseAmount)"
   ]
  },
  {
   "cell_type": "code",
   "execution_count": null,
   "id": "b74d52de",
   "metadata": {},
   "outputs": [],
   "source": []
  }
 ],
 "metadata": {
  "kernelspec": {
   "display_name": "Python 3 (ipykernel)",
   "language": "python",
   "name": "python3"
  },
  "language_info": {
   "codemirror_mode": {
    "name": "ipython",
    "version": 3
   },
   "file_extension": ".py",
   "mimetype": "text/x-python",
   "name": "python",
   "nbconvert_exporter": "python",
   "pygments_lexer": "ipython3",
   "version": "3.9.13"
  }
 },
 "nbformat": 4,
 "nbformat_minor": 5
}
