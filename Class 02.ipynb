{
 "cells": [
  {
   "cell_type": "code",
   "execution_count": 15,
   "id": "ecba0440",
   "metadata": {},
   "outputs": [
    {
     "name": "stdout",
     "output_type": "stream",
     "text": [
      "[1, 33, 2, 3, 4]\n",
      "4\n",
      "None\n"
     ]
    },
    {
     "data": {
      "text/plain": [
       "[1, 33, 3]"
      ]
     },
     "execution_count": 15,
     "metadata": {},
     "output_type": "execute_result"
    }
   ],
   "source": [
    "l=list([1,2,3,4])\n",
    "l.insert(1,33)\n",
    "print(l)\n",
    "print(l.pop())\n",
    "print(l.remove(2))\n",
    "l"
   ]
  },
  {
   "cell_type": "code",
   "execution_count": 28,
   "id": "b5cff599",
   "metadata": {},
   "outputs": [
    {
     "name": "stdout",
     "output_type": "stream",
     "text": [
      "Enter the Sentence here:Infosys 123\n",
      "Letters=7 Numbers=3\n"
     ]
    }
   ],
   "source": [
    "sentence=input(\"Enter the Sentence here:\")\n",
    "words=sentence.split(\" \")\n",
    "letters,numbers=0,0\n",
    "number=list(range(1,10))\n",
    "number=[str(i) for i in number]\n",
    "for word in words:\n",
    "    for letter in word:\n",
    "        if letter in number:\n",
    "            numbers+=1\n",
    "        else:\n",
    "            letters+=1\n",
    "print(f\"Letters={letters} Numbers={numbers}\")"
   ]
  },
  {
   "cell_type": "raw",
   "id": "df4afaad",
   "metadata": {},
   "source": [
    "isalpha()   ----> it will check the particular char/String is alphabet or not\n",
    "Ex:\n",
    "    \"1233333\".isdigit()\n",
    "    True\n",
    "    \"12333n33\".isdigit()\n",
    "    False\n",
    "isdigit()   ----> it will check the particular char/String is alphabet or not\n",
    "Ex:\n",
    "    \"narendra\".isalpha()\n",
    "    True\n",
    "    \"narend6ra\".isalpha()\n",
    "    False"
   ]
  },
  {
   "cell_type": "markdown",
   "id": "a3e18fdc",
   "metadata": {},
   "source": [
    "<font color='red'>**Hello**</font>"
   ]
  },
  {
   "cell_type": "code",
   "execution_count": 54,
   "id": "beda8126",
   "metadata": {},
   "outputs": [
    {
     "name": "stdout",
     "output_type": "stream",
     "text": [
      "Enter the List Value with 'Space':1 2 4 7 5 6 0 3\n",
      "Enter the Target Sum value: 6\n"
     ]
    },
    {
     "data": {
      "text/plain": [
       "[(1, 5), (2, 4), (6, 0)]"
      ]
     },
     "execution_count": 54,
     "metadata": {},
     "output_type": "execute_result"
    }
   ],
   "source": [
    "l=list(map(int,input(\"Enter the List Values with 'Space':\").split( )))\n",
    "Target=int(input(\"Enter the Target Sum value: \"))\n",
    "res=[(l[i],l[j]) for i in range(len(l)) for j in range(i+1,len(l)) if l[i]+l[j]==Target]\n",
    "res"
   ]
  },
  {
   "cell_type": "code",
   "execution_count": 83,
   "id": "efa0a35b",
   "metadata": {},
   "outputs": [
    {
     "name": "stdout",
     "output_type": "stream",
     "text": [
      "Enter the string Here☞: w3\n",
      "w3w3\n"
     ]
    }
   ],
   "source": [
    "st=input(\"Enter the string Here☞: \")\n",
    "if len(st)<2:\n",
    "    print(-1)\n",
    "else:\n",
    "    print(st[:2:]+st[-2::])"
   ]
  },
  {
   "cell_type": "raw",
   "id": "315dacdb",
   "metadata": {},
   "source": [
    "s=\"w3hh\"\n",
    "print(s[-2:0:-1]) o/p=h3 -----> it will change -ve indexes into +ve indexes \n",
    "print(s[-2:0:1])  o/p=\"\"-----> it will change -ve indexes into +ve indexes "
   ]
  },
  {
   "cell_type": "code",
   "execution_count": 90,
   "id": "2621253c",
   "metadata": {},
   "outputs": [
    {
     "name": "stdout",
     "output_type": "stream",
     "text": [
      "Enter String Here: sleep\n",
      "sleeping\n"
     ]
    }
   ],
   "source": [
    "word=input(\"Enter String Here: \")\n",
    "if len(word)<3:\n",
    "    print(word)\n",
    "elif word[-3::] == \"ing\":\n",
    "    print(word+\"ly\")\n",
    "else:\n",
    "    print(word+\"ing\")"
   ]
  },
  {
   "cell_type": "code",
   "execution_count": 107,
   "id": "c8115b88",
   "metadata": {},
   "outputs": [
    {
     "name": "stdout",
     "output_type": "stream",
     "text": [
      "Enter The Number: 125874\n",
      "Same Digits in Diff order\n"
     ]
    }
   ],
   "source": [
    "def check_double(num):\n",
    "    dbl=num*2\n",
    "    dl=[str(i) for i in str(dbl)]\n",
    "    if len(str(num))==len(str(dbl)):\n",
    "        for i in str(num):\n",
    "            if i in dl:\n",
    "                continue\n",
    "            else:\n",
    "                return \"Length is Same but Diff digits\"\n",
    "        return \"Same Digits in Diff order\"\n",
    "    else:\n",
    "        return \"Length is different\"\n",
    "num=int(input(\"Enter The Number: \"))\n",
    "print(check_double(num))"
   ]
  },
  {
   "cell_type": "code",
   "execution_count": 139,
   "id": "b57b214f",
   "metadata": {},
   "outputs": [
    {
     "name": "stdout",
     "output_type": "stream",
     "text": [
      "Percentage of the Students who scored Above Class Average : 70.0% \n",
      "\n",
      "Frequency of the Marks from 0 to 25 no.of Students Scored :\n",
      " [0, 0, 1, 0, 0, 1, 0, 0, 0, 0, 0, 0, 1, 0, 0, 0, 0, 0, 2, 0, 2, 1, 0, 0, 1, 1]\n",
      "\n",
      "Class Marks in Ascending Order : [2, 5, 12, 18, 18, 20, 20, 21, 24, 25]\n"
     ]
    }
   ],
   "source": [
    "l=(12,18,25,24,2,5,18,20,20,21)\n",
    "avg=sum(l)/len(l)\n",
    "mr=[1 for i in l if i >=avg]\n",
    "print(f\"Percentage of the Students who scored Above Class Average : {len(mr)*100/len(l)}% \\n\")\n",
    "dic={}\n",
    "for j in l:\n",
    "    if j in dic:\n",
    "        dic[j]+=1\n",
    "    else:\n",
    "        dic[j]=1\n",
    "freq=[]\n",
    "for i in range(0,26,1):\n",
    "    if i in l:\n",
    "        freq.append(dic[i])\n",
    "    else:\n",
    "        freq.append(0)\n",
    "print(f\"Frequency of the Marks from 0 to 25 no.of Students Scored :\\n {freq}\\n\")\n",
    "print(f\"Class Marks in Ascending Order : {sorted(l)}\")"
   ]
  },
  {
   "cell_type": "code",
   "execution_count": 142,
   "id": "0f48264c",
   "metadata": {},
   "outputs": [
    {
     "data": {
      "text/plain": [
       "[1, 2, 3, 23, 243, 34]"
      ]
     },
     "execution_count": 142,
     "metadata": {},
     "output_type": "execute_result"
    }
   ],
   "source": [
    "l1=[1,2,3]\n",
    "l2=[23,243,34]\n",
    "l1+l2"
   ]
  },
  {
   "cell_type": "code",
   "execution_count": 147,
   "id": "8b1e699e",
   "metadata": {},
   "outputs": [
    {
     "data": {
      "text/plain": [
       "['gott', 'god', 'jul']"
      ]
     },
     "execution_count": 147,
     "metadata": {},
     "output_type": "execute_result"
    }
   ],
   "source": [
    "def translate(bd,words):\n",
    "    res=[]\n",
    "    for word in words:\n",
    "        res.append(bd[word])\n",
    "    return res\n",
    "bd={\"merry\":\"god\",\"christmas\":\"jul\",\"and\":\"och\",\"happy\":\"gott\",\"new\":\"nytt\",\"year\":\"ar\"}\n",
    "eng=[\"happy\",\"merry\",\"christmas\"]\n",
    "translate(bd,eng)"
   ]
  },
  {
   "cell_type": "code",
   "execution_count": 177,
   "id": "ba3be0d8",
   "metadata": {},
   "outputs": [
    {
     "name": "stdout",
     "output_type": "stream",
     "text": [
      "Enter Starting Index: 1\n",
      "Enter Ending Index: 3\n",
      "[[1], [1, 2], [1, 2, 3], [2], [2, 3], [3]]\n",
      "4\n"
     ]
    }
   ],
   "source": [
    "start=int(input(\"Enter Starting Index: \"))\n",
    "end=int(input(\"Enter Ending Index: \"))\n",
    "SubArray=[]\n",
    "for i in range(start,end+1):\n",
    "    row=[]\n",
    "    for j in range(i,end+1):\n",
    "        row.append(j)\n",
    "        l=tuple(row)\n",
    "        SubArray.append(list(l))\n",
    "print(SubArray)\n",
    "res=0\n",
    "for sb in SubArray:\n",
    "    if sum(sb)%2:\n",
    "        res+=1\n",
    "print(res)"
   ]
  },
  {
   "cell_type": "code",
   "execution_count": 5,
   "id": "3bd5c823",
   "metadata": {},
   "outputs": [
    {
     "name": "stdout",
     "output_type": "stream",
     "text": [
      "Enter Starting Index: 1\n",
      "Enter Ending Index: 4\n",
      "[[1, 2, 3, 4], [1, 2, 3, 4], [1, 2, 3, 4], [1, 2, 3, 4], [2, 3, 4], [2, 3, 4], [2, 3, 4], [3, 4], [3, 4], [4]]\n"
     ]
    }
   ],
   "source": [
    "start=int(input(\"Enter Starting Index: \"))\n",
    "end=int(input(\"Enter Ending Index: \"))\n",
    "SubArray=[]\n",
    "for i in range(start,end+1):\n",
    "    row=[]\n",
    "    for j in range(i,end+1):\n",
    "        row.append(j)\n",
    "        #print(row)\n",
    "        SubArray.append(row)\n",
    "print(SubArray)"
   ]
  },
  {
   "cell_type": "code",
   "execution_count": null,
   "id": "133d5bdd",
   "metadata": {},
   "outputs": [],
   "source": []
  }
 ],
 "metadata": {
  "kernelspec": {
   "display_name": "Python 3 (ipykernel)",
   "language": "python",
   "name": "python3"
  },
  "language_info": {
   "codemirror_mode": {
    "name": "ipython",
    "version": 3
   },
   "file_extension": ".py",
   "mimetype": "text/x-python",
   "name": "python",
   "nbconvert_exporter": "python",
   "pygments_lexer": "ipython3",
   "version": "3.9.13"
  }
 },
 "nbformat": 4,
 "nbformat_minor": 5
}
